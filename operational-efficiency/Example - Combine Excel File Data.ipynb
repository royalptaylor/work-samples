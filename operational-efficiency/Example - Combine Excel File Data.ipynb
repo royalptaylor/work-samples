{
 "cells": [
  {
   "cell_type": "markdown",
   "metadata": {},
   "source": [
    "### Operational Efficiency Example\n",
    "\n",
    "While compiling a historical spending analysis, I discovered that general ledger data prior to a recent accounting system migration could be accessed only through monthly Microsoft Excel files. I assembled this notebook to combine all of the ledger data without having to undertake the tedious and time-consuming task of manually copying and pasting transaction details from hundreds of Excel files. "
   ]
  },
  {
   "cell_type": "code",
   "execution_count": null,
   "metadata": {},
   "outputs": [],
   "source": [
    "import os\n",
    "import pandas as pd\n",
    "import numpy as np\n",
    "import glob\n",
    "import xlrd"
   ]
  },
  {
   "cell_type": "code",
   "execution_count": null,
   "metadata": {},
   "outputs": [],
   "source": [
    "# create a list of all files within the June 2018 folder\n",
    "files = os.listdir('I:/Historical GL Data/June 2018')\n",
    "files"
   ]
  },
  {
   "cell_type": "code",
   "execution_count": null,
   "metadata": {},
   "outputs": [],
   "source": [
    "# create a new dataframe to house the ledger data\n",
    "df = pd.DataFrame()"
   ]
  },
  {
   "cell_type": "code",
   "execution_count": null,
   "metadata": {},
   "outputs": [],
   "source": [
    "# append data in the journal detail sheets of all files in the June 2018 folder to the dataframe\n",
    "for f in glob.glob('I:/Historical GL Data/June 2018/*'):\n",
    "    data = pd.read_excel(f, 'Journal Detail')\n",
    "    df = df.append(data)"
   ]
  }
 ],
 "metadata": {
  "kernelspec": {
   "display_name": "Python 3",
   "language": "python",
   "name": "python3"
  },
  "language_info": {
   "codemirror_mode": {
    "name": "ipython",
    "version": 3
   },
   "file_extension": ".py",
   "mimetype": "text/x-python",
   "name": "python",
   "nbconvert_exporter": "python",
   "pygments_lexer": "ipython3",
   "version": "3.7.3"
  }
 },
 "nbformat": 4,
 "nbformat_minor": 2
}
